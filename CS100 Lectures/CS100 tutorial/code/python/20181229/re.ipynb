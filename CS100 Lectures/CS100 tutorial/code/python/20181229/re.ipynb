{
 "cells": [
  {
   "cell_type": "markdown",
   "metadata": {},
   "source": [
    "## About Regular Expressions (REs)"
   ]
  },
  {
   "cell_type": "code",
   "execution_count": 1,
   "metadata": {
    "collapsed": true
   },
   "outputs": [],
   "source": [
    "import re"
   ]
  },
  {
   "cell_type": "markdown",
   "metadata": {},
   "source": [
    "Using 'regular expression', you **specify** the **rules** for the set of possible **strings** that you want to **match**. We can also use REs to modify a string or to **split** it apart in various ways. 背后实现：REs在被compile成一系列bytecode后，就被交给一个由C实现的matching engine。\n",
    "\n",
    "For advanced use, we may consider:\n",
    "- how the engine will execute a given RE\n",
    "- how to write the RE in a certain way in order to produce bytecode that runs faster"
   ]
  },
  {
   "cell_type": "markdown",
   "metadata": {},
   "source": [
    "### 一、RE 的 matching 功能"
   ]
  },
  {
   "cell_type": "markdown",
   "metadata": {},
   "source": [
    "The list of metcharacters (which cannot match themselves): . ^ $ * + ? {} [] \\ | () 这些在设计匹配pattern时，被用作其他用途。"
   ]
  },
  {
   "cell_type": "markdown",
   "metadata": {},
   "source": [
    "**The 1st : [ ]**  specify a **set** of characters that you wish to match. 可以把characters分别单独列出，当他们属于一个范围时，也可以只列出头尾两个characters，并用 '-' 连接。\n",
    "\n",
    "比如：[abcd]和[a-d]是两种等价的pattern。\n",
    "\n",
    "**The 2nd : ^** will match a complement set. 如：[^5]将会match any character except 5.\n",
    "\n",
    "**The 3rd: \\\\** (**转义字符**) : \\\\^ match real character '^'\n",
    "\n",
    "**Some other RE syntax**\n",
    "- \\d matches [0-9]\n",
    "- \\D matches [^0-9]\n",
    "- \\s matches any whitespace character [\\t\\n\\r\\f\\v]\n",
    "- \\S matches any non-whitespace character [^\\s]\n",
    "- \\w matches any alphanumeric character [a-zA-Z0-9]\n",
    "- \\W matches any non-alphanumeric character [^\\w]"
   ]
  },
  {
   "cell_type": "markdown",
   "metadata": {},
   "source": [
    "做个练习：**[\\s,]** will match **any whitespace character**, or  \" **,** \""
   ]
  },
  {
   "cell_type": "markdown",
   "metadata": {},
   "source": [
    "### 二、RE 的 compiling"
   ]
  },
  {
   "cell_type": "markdown",
   "metadata": {},
   "source": [
    "将具体的regular expressions compiler 成 pattern object, which have methods for various operations such as searching for pattern matches or performing string susbstitutions."
   ]
  },
  {
   "cell_type": "code",
   "execution_count": 2,
   "metadata": {},
   "outputs": [
    {
     "data": {
      "text/plain": [
       "re.compile(r'[a-z]+', re.UNICODE)"
      ]
     },
     "execution_count": 2,
     "metadata": {},
     "output_type": "execute_result"
    }
   ],
   "source": [
    "import re\n",
    "ptn=re.compile('[a-z]+')\n",
    "ptn"
   ]
  },
  {
   "cell_type": "code",
   "execution_count": 3,
   "metadata": {},
   "outputs": [
    {
     "data": {
      "text/plain": [
       "<_sre.SRE_Match object; span=(0, 4), match='test'>"
      ]
     },
     "execution_count": 3,
     "metadata": {},
     "output_type": "execute_result"
    }
   ],
   "source": [
    "p=ptn.match(\"test0fff12\")\n",
    "p"
   ]
  },
  {
   "cell_type": "markdown",
   "metadata": {},
   "source": [
    "group() 返回substring，start(), end()返回starting, ending index."
   ]
  },
  {
   "cell_type": "code",
   "execution_count": 4,
   "metadata": {},
   "outputs": [
    {
     "data": {
      "text/plain": [
       "'test'"
      ]
     },
     "execution_count": 4,
     "metadata": {},
     "output_type": "execute_result"
    }
   ],
   "source": [
    "p.group() "
   ]
  },
  {
   "cell_type": "code",
   "execution_count": 5,
   "metadata": {},
   "outputs": [
    {
     "data": {
      "text/plain": [
       "(0, 4)"
      ]
     },
     "execution_count": 5,
     "metadata": {},
     "output_type": "execute_result"
    }
   ],
   "source": [
    "p.start(), p.end()"
   ]
  },
  {
   "cell_type": "markdown",
   "metadata": {},
   "source": [
    "### 三、re.split() 功能"
   ]
  },
  {
   "cell_type": "markdown",
   "metadata": {},
   "source": [
    "**.split(string[, maxsplit=0])**  Split the string into a list, **splitting** it wherever the **RE** matches. If maxsplit is non-zero, at most maxsplit are performed."
   ]
  },
  {
   "cell_type": "code",
   "execution_count": 6,
   "metadata": {},
   "outputs": [
    {
     "data": {
      "text/plain": [
       "['This', 'is', 'a', 'test', 'short', 'and', 'sweet', 'of', 'split', '']"
      ]
     },
     "execution_count": 6,
     "metadata": {},
     "output_type": "execute_result"
    }
   ],
   "source": [
    "ptn = re.compile(r'\\W+')\n",
    "ptn.split('This is a test, short and sweet, of split().')"
   ]
  },
  {
   "cell_type": "code",
   "execution_count": 7,
   "metadata": {},
   "outputs": [
    {
     "data": {
      "text/plain": [
       "['This', 'is', 'a', 'test, short and sweet, of split().']"
      ]
     },
     "execution_count": 7,
     "metadata": {},
     "output_type": "execute_result"
    }
   ],
   "source": [
    "ptn.split('This is a test, short and sweet, of split().',3)"
   ]
  },
  {
   "cell_type": "markdown",
   "metadata": {},
   "source": [
    "上面返回的list默认不包含match到的内容，若想把match的内容也返回，应为ptn的r(raw)加上括号。"
   ]
  },
  {
   "cell_type": "code",
   "execution_count": 8,
   "metadata": {},
   "outputs": [
    {
     "name": "stdout",
     "output_type": "stream",
     "text": [
      "['This', ' ', 'is', ' ', 'a', ' ', 'test', ', ', 'short', ' ', 'and', ' ', 'sweet', ', ', 'of', ' ', 'split', '().', '']\n"
     ]
    }
   ],
   "source": [
    "ptn2= re.compile(r'(\\W+)')\n",
    "print(ptn2.split('This is a test, short and sweet, of split().'))"
   ]
  },
  {
   "cell_type": "markdown",
   "metadata": {},
   "source": [
    "上述方式是先生成一个pattern，然后用pattern.split()方式调用。也可以直接用re.split()然后把要匹配的内容作为参数传入："
   ]
  },
  {
   "cell_type": "code",
   "execution_count": 9,
   "metadata": {},
   "outputs": [
    {
     "data": {
      "text/plain": [
       "['Words', 'words', 'words', '']"
      ]
     },
     "execution_count": 9,
     "metadata": {},
     "output_type": "execute_result"
    }
   ],
   "source": [
    "re.split(r'\\W+',\"Words+++words---words!!!!\")"
   ]
  },
  {
   "cell_type": "code",
   "execution_count": 10,
   "metadata": {},
   "outputs": [
    {
     "data": {
      "text/plain": [
       "['Words', '+++', 'words', '---', 'words', '!!!!', '']"
      ]
     },
     "execution_count": 10,
     "metadata": {},
     "output_type": "execute_result"
    }
   ],
   "source": [
    "re.split(r'(\\W+)',\"Words+++words---words!!!!\")"
   ]
  },
  {
   "cell_type": "markdown",
   "metadata": {},
   "source": [
    "再看几个例子："
   ]
  },
  {
   "cell_type": "code",
   "execution_count": 11,
   "metadata": {},
   "outputs": [
    {
     "data": {
      "text/plain": [
       "'aaa bbb ccc; ddd    eee,fff'"
      ]
     },
     "execution_count": 11,
     "metadata": {},
     "output_type": "execute_result"
    }
   ],
   "source": [
    "strs='aaa bbb ccc; ddd    eee,fff'\n",
    "strs"
   ]
  },
  {
   "cell_type": "markdown",
   "metadata": {},
   "source": [
    "两个字符以上的切割要放在 **[]** 中表示成一个 set "
   ]
  },
  {
   "cell_type": "markdown",
   "metadata": {},
   "source": [
    "不保留匹配项的split"
   ]
  },
  {
   "cell_type": "code",
   "execution_count": 12,
   "metadata": {},
   "outputs": [
    {
     "data": {
      "text/plain": [
       "['aaa bbb ccc', ' ddd    eee', 'fff']"
      ]
     },
     "execution_count": 12,
     "metadata": {},
     "output_type": "execute_result"
    }
   ],
   "source": [
    "re.split(r'[;,]',strs)"
   ]
  },
  {
   "cell_type": "markdown",
   "metadata": {},
   "source": [
    "保留匹配项的split"
   ]
  },
  {
   "cell_type": "code",
   "execution_count": 13,
   "metadata": {},
   "outputs": [
    {
     "data": {
      "text/plain": [
       "['aaa bbb ccc', ';', ' ddd    eee', ',', 'fff']"
      ]
     },
     "execution_count": 13,
     "metadata": {},
     "output_type": "execute_result"
    }
   ],
   "source": [
    "re.split(r'([;,])',strs)"
   ]
  },
  {
   "cell_type": "markdown",
   "metadata": {},
   "source": [
    "### 四、re.sub(pattern, repl, string, count=0, flags=0) 功能\n",
    "\n",
    "Return the string obtained by replacing the leftmost non-overlapping occurrences of pattern in string by the replacement repl. 用repl替换pattern"
   ]
  },
  {
   "cell_type": "markdown",
   "metadata": {},
   "source": [
    "另一个例子"
   ]
  },
  {
   "cell_type": "code",
   "execution_count": 14,
   "metadata": {
    "collapsed": true
   },
   "outputs": [],
   "source": [
    "# s2='''\n",
    "# bool x = True;\n",
    "# bool y = False;\n",
    "# bool z = True;\n",
    "# main()\n",
    "# {\n",
    "# 1:  x = !y;2:  if ( (x&y) | (!z) )\n",
    "# 3:  y = !y;\n",
    "# 4: pass;\n",
    "# fi\n",
    "# 5:  return x;\n",
    "# }\n",
    "# '''"
   ]
  },
  {
   "cell_type": "code",
   "execution_count": 2,
   "metadata": {
    "collapsed": true
   },
   "outputs": [],
   "source": [
    "s2='''bool x = True;bool y = False;bool z = True;main(){1:  x = !y;2:  if ( (x&y) | (!z) )3:  y = !y;4: pass;fi 5:  return x;}'''"
   ]
  },
  {
   "cell_type": "code",
   "execution_count": 3,
   "metadata": {},
   "outputs": [
    {
     "name": "stdout",
     "output_type": "stream",
     "text": [
      "bool x = True;bool y = False;bool z = True;main(){\n",
      "1:  x = !y;2:  if ( (x&y) | (!z) )3:  y = !y;4: pass;fi 5:  return x;\n",
      "}\n"
     ]
    }
   ],
   "source": [
    "s2=s2.replace(\"{\",\"{\\n\")\n",
    "s2=s2.replace(\"}\",\"\\n}\")\n",
    "print(s2)"
   ]
  },
  {
   "cell_type": "code",
   "execution_count": 4,
   "metadata": {},
   "outputs": [
    {
     "name": "stdout",
     "output_type": "stream",
     "text": [
      "bool x = True;bool y = False;bool z = True;main(){\n",
      "1:  x = !y;2:  if ( (x&y) | (!z) )3:  y = !y;4: pass;\n",
      "fi\n",
      "5:  return x;\n",
      "}\n"
     ]
    }
   ],
   "source": [
    "s2=re.sub(r';\\s*fi\\s+',r';\\nfi\\n',s2)\n",
    "print(s2)"
   ]
  },
  {
   "cell_type": "code",
   "execution_count": 5,
   "metadata": {},
   "outputs": [
    {
     "name": "stdout",
     "output_type": "stream",
     "text": [
      "bool x = True;bool y = False;bool z = True;main(){\n",
      "\n",
      "1:  x = !y;\n",
      "2:  if ( (x&y) | (!z) )\n",
      "3:  y = !y;\n",
      "4: pass;\n",
      "fi\n",
      "\n",
      "5:  return x;\n",
      "}\n"
     ]
    }
   ],
   "source": [
    "s2=re.sub(r'(\\w+\\s*:)',r'\\n\\1',s2) #所有带：的地方都转行\n",
    "print(s2)"
   ]
  },
  {
   "cell_type": "code",
   "execution_count": 6,
   "metadata": {},
   "outputs": [
    {
     "name": "stdout",
     "output_type": "stream",
     "text": [
      "bool x = True;bool y = False;bool z = True;main(){\n",
      "1:  x = !y;\n",
      "2:  if ( (x&y) | (!z) )\n",
      "3:  y = !y;\n",
      "4: pass;\n",
      "fi\n",
      "5:  return x;\n",
      "}\n"
     ]
    }
   ],
   "source": [
    "s2=re.sub(r'\\s*\\n\\s*',r'\\n',s2) #整理所有的转行，得到最终的标准格式\n",
    "print(s2)"
   ]
  },
  {
   "cell_type": "code",
   "execution_count": 20,
   "metadata": {},
   "outputs": [
    {
     "data": {
      "text/plain": [
       "['',\n",
       " 'bool x = True;',\n",
       " 'bool y = False;',\n",
       " 'bool z = True;',\n",
       " 'main()',\n",
       " '{',\n",
       " '1:  x = !y;',\n",
       " '2:  if ( (x&y) | (!z) )',\n",
       " '3:  y = !y;',\n",
       " '4: pass;',\n",
       " 'fi',\n",
       " '5:  return x;',\n",
       " '}',\n",
       " '']"
      ]
     },
     "execution_count": 20,
     "metadata": {},
     "output_type": "execute_result"
    }
   ],
   "source": [
    "s2=s2.split('\\n')\n",
    "s2"
   ]
  },
  {
   "cell_type": "code",
   "execution_count": 21,
   "metadata": {
    "collapsed": true
   },
   "outputs": [],
   "source": [
    "m = re.match(r'(\\w+) (\\w+)', \"Isaac Newton, physicist\") #两对(),两个group：1,2 其中第i对括号match对应的是group(i)"
   ]
  },
  {
   "cell_type": "code",
   "execution_count": 22,
   "metadata": {},
   "outputs": [
    {
     "data": {
      "text/plain": [
       "'Isaac Newton'"
      ]
     },
     "execution_count": 22,
     "metadata": {},
     "output_type": "execute_result"
    }
   ],
   "source": [
    "m.group(0)"
   ]
  },
  {
   "cell_type": "code",
   "execution_count": 23,
   "metadata": {},
   "outputs": [
    {
     "data": {
      "text/plain": [
       "'Isaac'"
      ]
     },
     "execution_count": 23,
     "metadata": {},
     "output_type": "execute_result"
    }
   ],
   "source": [
    "m.group(1)"
   ]
  },
  {
   "cell_type": "code",
   "execution_count": 24,
   "metadata": {},
   "outputs": [
    {
     "data": {
      "text/plain": [
       "'Newton'"
      ]
     },
     "execution_count": 24,
     "metadata": {},
     "output_type": "execute_result"
    }
   ],
   "source": [
    "m.group(2)"
   ]
  },
  {
   "cell_type": "code",
   "execution_count": 25,
   "metadata": {},
   "outputs": [
    {
     "ename": "IndexError",
     "evalue": "no such group",
     "output_type": "error",
     "traceback": [
      "\u001b[0;31m---------------------------------------------------------------------------\u001b[0m",
      "\u001b[0;31mIndexError\u001b[0m                                Traceback (most recent call last)",
      "\u001b[0;32m<ipython-input-25-974525c8e304>\u001b[0m in \u001b[0;36m<module>\u001b[0;34m\u001b[0m\n\u001b[0;32m----> 1\u001b[0;31m \u001b[0mm\u001b[0m\u001b[0;34m.\u001b[0m\u001b[0mgroup\u001b[0m\u001b[0;34m(\u001b[0m\u001b[0;36m3\u001b[0m\u001b[0;34m)\u001b[0m\u001b[0;34m\u001b[0m\u001b[0;34m\u001b[0m\u001b[0m\n\u001b[0m",
      "\u001b[0;31mIndexError\u001b[0m: no such group"
     ]
    }
   ],
   "source": [
    "m.group(3)"
   ]
  }
 ],
 "metadata": {
  "kernelspec": {
   "display_name": "Python 3",
   "language": "python",
   "name": "python3"
  },
  "language_info": {
   "codemirror_mode": {
    "name": "ipython",
    "version": 3
   },
   "file_extension": ".py",
   "mimetype": "text/x-python",
   "name": "python",
   "nbconvert_exporter": "python",
   "pygments_lexer": "ipython3",
   "version": "3.6.3"
  }
 },
 "nbformat": 4,
 "nbformat_minor": 2
}
